{
 "cells": [
  {
   "cell_type": "code",
   "execution_count": 2,
   "metadata": {},
   "outputs": [],
   "source": [
    "import tensorflow as tf"
   ]
  },
  {
   "cell_type": "markdown",
   "metadata": {},
   "source": [
    "### 1. Loading MNIST DATASET which is present in the Keras library"
   ]
  },
  {
   "cell_type": "code",
   "execution_count": 3,
   "metadata": {},
   "outputs": [],
   "source": [
    "from tensorflow.keras.datasets import mnist \n",
    "\n",
    "#### Load dataset and split train test sets \n",
    "\n",
    "(train_x, train_y), (test_x, test_y) = mnist.load_data()"
   ]
  },
  {
   "cell_type": "code",
   "execution_count": 4,
   "metadata": {},
   "outputs": [
    {
     "name": "stdout",
     "output_type": "stream",
     "text": [
      "Training X Shape:  (60000, 28, 28)\n",
      "Training Y Shape:  (60000,)\n",
      "Testing X Shape:  (10000, 28, 28)\n",
      "Testing Y Shape:  (10000,)\n"
     ]
    }
   ],
   "source": [
    "#### Determine Shapes \n",
    "print(\"Training X Shape: \", train_x.shape)\n",
    "print(\"Training Y Shape: \", train_y.shape)\n",
    "print(\"Testing X Shape: \", test_x.shape)\n",
    "print(\"Testing Y Shape: \", test_y.shape)"
   ]
  },
  {
   "cell_type": "markdown",
   "metadata": {},
   "source": [
    "#### Thus Our Training Set has 60000 examples, and Test Set has 10,000 examples with images of 28x28 pixels"
   ]
  },
  {
   "cell_type": "markdown",
   "metadata": {},
   "source": [
    "### 2. EXAMINE THE DATASET AND OUTPUT LABEL"
   ]
  },
  {
   "cell_type": "code",
   "execution_count": 5,
   "metadata": {},
   "outputs": [
    {
     "name": "stdout",
     "output_type": "stream",
     "text": [
      "Y:  8\n",
      "List Of Probable Outputs:  {0, 1, 2, 3, 4, 5, 6, 7, 8, 9}\n"
     ]
    },
    {
     "data": {
      "image/png": "[encoded data removed]",
      "text/plain": [
       "<Figure size 432x288 with 1 Axes>"
      ]
     },
     "metadata": {
      "needs_background": "light"
     },
     "output_type": "display_data"
    }
   ],
   "source": [
    "## Examine Input \n",
    "import matplotlib.pyplot as plt \n",
    "\n",
    "plt.imshow(train_x[59999])\n",
    "plt.show \n",
    "\n",
    "## Examine Output \n",
    "print('Y: ', train_y[59999])\n",
    "\n",
    "### Print all Probable Outputs \n",
    "print('List Of Probable Outputs: ', set(train_y))"
   ]
  },
  {
   "cell_type": "markdown",
   "metadata": {},
   "source": [
    "### 3. ENCODE USING ONE HOT ENCODING\n",
    "\n",
    "#### This transforms a label to an array of 10 numbers where index of the corresponding value is labelled as '1' while the others are all '0'"
   ]
  },
  {
   "cell_type": "code",
   "execution_count": 6,
   "metadata": {},
   "outputs": [
    {
     "name": "stdout",
     "output_type": "stream",
     "text": [
      "encoded_y_train shape:  (60000, 10)\n",
      "encoded_y_test shape:  (10000, 10)\n"
     ]
    }
   ],
   "source": [
    "from tensorflow.keras.utils import to_categorical \n",
    "\n",
    "### encode output labels for both train and test sets \n",
    "encoded_y_train = to_categorical(train_y)\n",
    "encoded_y_test = to_categorical(test_y)\n",
    "\n",
    "### print out the shape, it changes from (60000,) to (60000, 10)\n",
    "print('encoded_y_train shape: ',  encoded_y_train.shape)\n",
    "print('encoded_y_test shape: ',  encoded_y_test.shape)"
   ]
  },
  {
   "cell_type": "markdown",
   "metadata": {},
   "source": [
    "### 4. VECTORISE using numpy reshape into a desired shape"
   ]
  },
  {
   "cell_type": "code",
   "execution_count": 7,
   "metadata": {},
   "outputs": [
    {
     "name": "stdout",
     "output_type": "stream",
     "text": [
      "x_train_reshaped:  (60000, 784) \n",
      "x_test_reshaped:  (10000, 784)\n"
     ]
    }
   ],
   "source": [
    "import numpy as np \n",
    "\n",
    "x_train_reshaped = np.reshape(train_x, (60000, 784))\n",
    "x_test_reshaped = np.reshape(test_x, (10000, 784))\n",
    "\n",
    "print('x_train_reshaped: ', x_train_reshaped.shape,'\\nx_test_reshaped: ', x_test_reshaped.shape)"
   ]
  },
  {
   "cell_type": "markdown",
   "metadata": {},
   "source": [
    "### 5. NORMALISE \n",
    "#### to make it easier for us to compute values"
   ]
  },
  {
   "cell_type": "code",
   "execution_count": 8,
   "metadata": {},
   "outputs": [],
   "source": [
    "x_mean = np.mean(x_train_reshaped) \n",
    "x_std = np.std(x_train_reshaped)\n",
    "\n",
    "epsilon = 1e-10 \n",
    "\n",
    "x_train_norm = (x_train_reshaped - x_mean) / (x_std + epsilon)\n",
    "x_test_norm = (x_test_reshaped - x_mean) / (x_std + epsilon)"
   ]
  },
  {
   "cell_type": "code",
   "execution_count": 9,
   "metadata": {},
   "outputs": [
    {
     "data": {
      "text/plain": [
       "array([[-0.42407389, -0.42407389, -0.42407389, ..., -0.42407389,\n",
       "        -0.42407389, -0.42407389],\n",
       "       [-0.42407389, -0.42407389, -0.42407389, ..., -0.42407389,\n",
       "        -0.42407389, -0.42407389],\n",
       "       [-0.42407389, -0.42407389, -0.42407389, ..., -0.42407389,\n",
       "        -0.42407389, -0.42407389],\n",
       "       ...,\n",
       "       [-0.42407389, -0.42407389, -0.42407389, ..., -0.42407389,\n",
       "        -0.42407389, -0.42407389],\n",
       "       [-0.42407389, -0.42407389, -0.42407389, ..., -0.42407389,\n",
       "        -0.42407389, -0.42407389],\n",
       "       [-0.42407389, -0.42407389, -0.42407389, ..., -0.42407389,\n",
       "        -0.42407389, -0.42407389]])"
      ]
     },
     "execution_count": 9,
     "metadata": {},
     "output_type": "execute_result"
    }
   ],
   "source": [
    "x_train_norm"
   ]
  },
  {
   "cell_type": "markdown",
   "metadata": {},
   "source": [
    "### 5. CREATE A RELEVANT MODEL"
   ]
  },
  {
   "cell_type": "markdown",
   "metadata": {},
   "source": [
    "#### ARCHITECTURE: \n",
    "\n",
    "- 2 HIDDEN LAYERS\n",
    "- 128 NODES PER LAYER \n",
    "- 10 NODES (10 OUTPUTS) "
   ]
  },
  {
   "cell_type": "code",
   "execution_count": 10,
   "metadata": {},
   "outputs": [],
   "source": [
    "from tensorflow.keras.models import Sequential \n",
    "from tensorflow.keras.layers import Dense \n",
    "\n",
    "#### Dense Layered neural network with 2 hidden layers of 128 nodes, and an output layer of 10 nodes\n",
    "model = Sequential([\n",
    "    Dense(128, activation = 'relu', input_shape = (784,)),\n",
    "    Dense(128, activation = 'relu'),\n",
    "    Dense(10, activation = 'softmax')\n",
    "])"
   ]
  },
  {
   "cell_type": "markdown",
   "metadata": {},
   "source": [
    "### 6. Compile and Fit the model "
   ]
  },
  {
   "cell_type": "code",
   "execution_count": 11,
   "metadata": {},
   "outputs": [
    {
     "name": "stdout",
     "output_type": "stream",
     "text": [
      "Epoch 1/5\n",
      "1875/1875 [==============================] - 6s 3ms/step - loss: 0.2203 - accuracy: 0.9335\n",
      "Epoch 2/5\n",
      "1875/1875 [==============================] - 4s 2ms/step - loss: 0.1017 - accuracy: 0.9685\n",
      "Epoch 3/5\n",
      "1875/1875 [==============================] - 5s 2ms/step - loss: 0.0772 - accuracy: 0.9753\n",
      "Epoch 4/5\n",
      "1875/1875 [==============================] - 7s 4ms/step - loss: 0.0587 - accuracy: 0.9814\n",
      "Epoch 5/5\n",
      "1875/1875 [==============================] - 4s 2ms/step - loss: 0.0484 - accuracy: 0.9840\n"
     ]
    },
    {
     "data": {
      "text/plain": [
       "<tensorflow.python.keras.callbacks.History at 0x7ff298695350>"
      ]
     },
     "execution_count": 11,
     "metadata": {},
     "output_type": "execute_result"
    }
   ],
   "source": [
    "###### Using categorical cross entropy loss function, and adam optimiser algorithm \n",
    "\n",
    "model.compile(optimizer = 'adam', loss= 'categorical_crossentropy', metrics = 'accuracy')\n",
    "\n",
    "model.fit(x_train_norm, encoded_y_train, epochs = 5)"
   ]
  },
  {
   "cell_type": "markdown",
   "metadata": {},
   "source": [
    "### 7. Examine the model's accuracy to see how the model works on the test set "
   ]
  },
  {
   "cell_type": "code",
   "execution_count": 15,
   "metadata": {},
   "outputs": [
    {
     "name": "stdout",
     "output_type": "stream",
     "text": [
      "313/313 [==============================] - 1s 2ms/step - loss: 0.0875 - accuracy: 0.9770\n"
     ]
    }
   ],
   "source": [
    "loss, accuracy = model.evaluate(x_test_norm, encoded_y_test)"
   ]
  },
  {
   "cell_type": "markdown",
   "metadata": {},
   "source": [
    "### 8. Final Step: Visualise the predicted values in a batch of 25"
   ]
  },
  {
   "cell_type": "code",
   "execution_count": 16,
   "metadata": {},
   "outputs": [
    {
     "data": {
      "image/png": "[encoded data removed]",
      "text/plain": [
       "<Figure size 864x864 with 25 Axes>"
      ]
     },
     "metadata": {},
     "output_type": "display_data"
    }
   ],
   "source": [
    "preds = model.predict(x_test_norm)\n",
    "\n",
    "plt.figure(figsize = (12, 12))\n",
    "\n",
    "start = 100\n",
    "for i in range(25): \n",
    "    plt.subplot(5,5,i+1)\n",
    "    plt.grid(False)\n",
    "    plt.xticks([])\n",
    "    plt.yticks([])\n",
    "    \n",
    "    pred = np.argmax(preds[start+i])\n",
    "    gt = test_y[start + i]\n",
    "    \n",
    "    col = 'g'\n",
    "    if pred != gt: \n",
    "        col = 'r'\n",
    "        \n",
    "    plt.xlabel('x = {}, pred = {}, gt = {}'.format(start+i, pred, gt), color = col)\n",
    "    plt.imshow(test_x[start+i], cmap = 'binary')\n",
    "plt.show()"
   ]
  },
  {
   "cell_type": "code",
   "execution_count": null,
   "metadata": {},
   "outputs": [],
   "source": []
  },
  {
   "cell_type": "code",
   "execution_count": null,
   "metadata": {},
   "outputs": [],
   "source": []
  }
 ],
 "metadata": {
  "kernelspec": {
   "display_name": "Python 3",
   "language": "python",
   "name": "python3"
  },
  "language_info": {
   "codemirror_mode": {
    "name": "ipython",
    "version": 3
   },
   "file_extension": ".py",
   "mimetype": "text/x-python",
   "name": "python",
   "nbconvert_exporter": "python",
   "pygments_lexer": "ipython3",
   "version": "3.7.6"
  }
 },
 "nbformat": 4,
 "nbformat_minor": 4
}
